{
  "nbformat": 4,
  "nbformat_minor": 0,
  "metadata": {
    "colab": {
      "name": "Exemplo_01.ipynb",
      "provenance": [],
      "authorship_tag": "ABX9TyN4Y/jITINo9R1gYx+pojxY",
      "include_colab_link": true
    },
    "kernelspec": {
      "name": "python3",
      "display_name": "Python 3"
    }
  },
  "cells": [
    {
      "cell_type": "markdown",
      "metadata": {
        "id": "view-in-github",
        "colab_type": "text"
      },
      "source": [
        "<a href=\"https://colab.research.google.com/github/Wanderson-Github/odyssey_project/blob/master/Exemplo_01.ipynb\" target=\"_parent\"><img src=\"https://colab.research.google.com/assets/colab-badge.svg\" alt=\"Open In Colab\"/></a>"
      ]
    },
    {
      "cell_type": "code",
      "metadata": {
        "id": "rbW7Ujd6yTvE",
        "colab_type": "code",
        "colab": {
          "base_uri": "https://localhost:8080/",
          "height": 68
        },
        "outputId": "0d3c9bd1-d8a5-400b-ba9d-b72dac01aca2"
      },
      "source": [
        "### isto é um comando de saída\n",
        "print('Olá Mundo Cruel!!!')\n",
        "print('Cruel World!!!')\n",
        "print(\"'com aspas dupla'\")\n",
        "\n",
        "\n",
        "\n",
        "# a hastag é um comentário no código, ou seja, o programa não irá processar nenhuma linha que estiver marcada\n",
        "# o comando print() mostra na tela, ou seja, é uma saída de valor(es). \n",
        "# O conteúdo texto deve estar entre aspas (simples ou dupla)"
      ],
      "execution_count": 3,
      "outputs": [
        {
          "output_type": "stream",
          "text": [
            "Olá Mundo Cruel!!!\n",
            "Cruel World!!!\n",
            "'com aspas dupla'\n"
          ],
          "name": "stdout"
        }
      ]
    },
    {
      "cell_type": "code",
      "metadata": {
        "id": "kdbARbq15UBK",
        "colab_type": "code",
        "colab": {}
      },
      "source": [
        ""
      ],
      "execution_count": null,
      "outputs": []
    }
  ]
}